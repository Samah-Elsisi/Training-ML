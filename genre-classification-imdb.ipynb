{
 "cells": [
  {
   "cell_type": "code",
   "execution_count": 1,
   "id": "9da7a59e",
   "metadata": {
    "_cell_guid": "b1076dfc-b9ad-4769-8c92-a6c4dae69d19",
    "_uuid": "8f2839f25d086af736a60e9eeb907d3b93b6e0e5",
    "execution": {
     "iopub.execute_input": "2024-02-01T22:16:39.490804Z",
     "iopub.status.busy": "2024-02-01T22:16:39.490395Z",
     "iopub.status.idle": "2024-02-01T22:16:42.689507Z",
     "shell.execute_reply": "2024-02-01T22:16:42.687166Z"
    },
    "papermill": {
     "duration": 3.21248,
     "end_time": "2024-02-01T22:16:42.692070",
     "exception": false,
     "start_time": "2024-02-01T22:16:39.479590",
     "status": "completed"
    },
    "tags": []
   },
   "outputs": [
    {
     "name": "stdout",
     "output_type": "stream",
     "text": [
      "/kaggle/input/genre-classification-dataset-imdb/Genre Classification Dataset/description.txt\n",
      "/kaggle/input/genre-classification-dataset-imdb/Genre Classification Dataset/test_data_solution.txt\n",
      "/kaggle/input/genre-classification-dataset-imdb/Genre Classification Dataset/test_data.txt\n",
      "/kaggle/input/genre-classification-dataset-imdb/Genre Classification Dataset/train_data.txt\n"
     ]
    }
   ],
   "source": [
    "import numpy as np \n",
    "import pandas as pd \n",
    "import matplotlib.pyplot as plt\n",
    "import seaborn as sns\n",
    "import re\n",
    "import string\n",
    "import nltk\n",
    "from nltk.stem import LancasterStemmer\n",
    "from nltk.tokenize import word_tokenize\n",
    "from nltk.stem import PorterStemmer\n",
    "from nltk.corpus import stopwords\n",
    "stop_words = set(stopwords.words('english'))\n",
    "from wordcloud import WordCloud\n",
    "from sklearn.feature_extraction.text import TfidfVectorizer\n",
    "from sklearn.model_selection import train_test_split\n",
    "from sklearn.linear_model import LogisticRegression\n",
    "from sklearn.naive_bayes import MultinomialNB\n",
    "from sklearn.svm import SVC\n",
    "from sklearn.metrics import accuracy_score, classification_report, confusion_matrix , accuracy_score, recall_score, f1_score\n",
    "\n",
    "import os\n",
    "for dirname, _, filenames in os.walk('/kaggle/input'):\n",
    "    for filename in filenames:\n",
    "        print(os.path.join(dirname, filename))\n",
    "\n",
    "import warnings\n",
    "warnings.filterwarnings(\"ignore\")"
   ]
  },
  {
   "cell_type": "markdown",
   "id": "d1c984ab",
   "metadata": {
    "papermill": {
     "duration": 0.008324,
     "end_time": "2024-02-01T22:16:42.709246",
     "exception": false,
     "start_time": "2024-02-01T22:16:42.700922",
     "status": "completed"
    },
    "tags": []
   },
   "source": [
    "# Explore Data"
   ]
  },
  {
   "cell_type": "code",
   "execution_count": 2,
   "id": "d0ddb4df",
   "metadata": {
    "execution": {
     "iopub.execute_input": "2024-02-01T22:16:42.728549Z",
     "iopub.status.busy": "2024-02-01T22:16:42.728028Z",
     "iopub.status.idle": "2024-02-01T22:16:43.713024Z",
     "shell.execute_reply": "2024-02-01T22:16:43.711806Z"
    },
    "papermill": {
     "duration": 0.997745,
     "end_time": "2024-02-01T22:16:43.715685",
     "exception": false,
     "start_time": "2024-02-01T22:16:42.717940",
     "status": "completed"
    },
    "tags": []
   },
   "outputs": [],
   "source": [
    "df = pd.read_csv('/kaggle/input/genre-classification-dataset-imdb/Genre Classification Dataset/train_data.txt', sep='\\t', on_bad_lines='skip')"
   ]
  },
  {
   "cell_type": "code",
   "execution_count": 3,
   "id": "5055a31a",
   "metadata": {
    "execution": {
     "iopub.execute_input": "2024-02-01T22:16:43.734957Z",
     "iopub.status.busy": "2024-02-01T22:16:43.734532Z",
     "iopub.status.idle": "2024-02-01T22:16:43.750026Z",
     "shell.execute_reply": "2024-02-01T22:16:43.748952Z"
    },
    "papermill": {
     "duration": 0.028127,
     "end_time": "2024-02-01T22:16:43.752525",
     "exception": false,
     "start_time": "2024-02-01T22:16:43.724398",
     "status": "completed"
    },
    "tags": []
   },
   "outputs": [
    {
     "data": {
      "text/html": [
       "<div>\n",
       "<style scoped>\n",
       "    .dataframe tbody tr th:only-of-type {\n",
       "        vertical-align: middle;\n",
       "    }\n",
       "\n",
       "    .dataframe tbody tr th {\n",
       "        vertical-align: top;\n",
       "    }\n",
       "\n",
       "    .dataframe thead th {\n",
       "        text-align: right;\n",
       "    }\n",
       "</style>\n",
       "<table border=\"1\" class=\"dataframe\">\n",
       "  <thead>\n",
       "    <tr style=\"text-align: right;\">\n",
       "      <th></th>\n",
       "      <th>1 ::: Oscar et la dame rose (2009) ::: drama ::: Listening in to a conversation between his doctor and parents, 10-year-old Oscar learns what nobody has the courage to tell him. He only has a few weeks to live. Furious, he refuses to speak to anyone except straight-talking Rose, the lady in pink he meets on the hospital stairs. As Christmas approaches, Rose uses her fantastical experiences as a professional wrestler, her imagination, wit and charm to allow Oscar to live life and love to the full, in the company of his friends Pop Corn, Einstein, Bacon and childhood sweetheart Peggy Blue.</th>\n",
       "    </tr>\n",
       "  </thead>\n",
       "  <tbody>\n",
       "    <tr>\n",
       "      <th>0</th>\n",
       "      <td>2 ::: Cupid (1997) ::: thriller ::: A brother ...</td>\n",
       "    </tr>\n",
       "    <tr>\n",
       "      <th>1</th>\n",
       "      <td>3 ::: Young, Wild and Wonderful (1980) ::: adu...</td>\n",
       "    </tr>\n",
       "    <tr>\n",
       "      <th>2</th>\n",
       "      <td>4 ::: The Secret Sin (1915) ::: drama ::: To h...</td>\n",
       "    </tr>\n",
       "    <tr>\n",
       "      <th>3</th>\n",
       "      <td>5 ::: The Unrecovered (2007) ::: drama ::: The...</td>\n",
       "    </tr>\n",
       "    <tr>\n",
       "      <th>4</th>\n",
       "      <td>6 ::: Quality Control (2011) ::: documentary :...</td>\n",
       "    </tr>\n",
       "  </tbody>\n",
       "</table>\n",
       "</div>"
      ],
      "text/plain": [
       "  1 ::: Oscar et la dame rose (2009) ::: drama ::: Listening in to a conversation between his doctor and parents, 10-year-old Oscar learns what nobody has the courage to tell him. He only has a few weeks to live. Furious, he refuses to speak to anyone except straight-talking Rose, the lady in pink he meets on the hospital stairs. As Christmas approaches, Rose uses her fantastical experiences as a professional wrestler, her imagination, wit and charm to allow Oscar to live life and love to the full, in the company of his friends Pop Corn, Einstein, Bacon and childhood sweetheart Peggy Blue.\n",
       "0  2 ::: Cupid (1997) ::: thriller ::: A brother ...                                                                                                                                                                                                                                                                                                                                                                                                                                                                                                                                                                \n",
       "1  3 ::: Young, Wild and Wonderful (1980) ::: adu...                                                                                                                                                                                                                                                                                                                                                                                                                                                                                                                                                                \n",
       "2  4 ::: The Secret Sin (1915) ::: drama ::: To h...                                                                                                                                                                                                                                                                                                                                                                                                                                                                                                                                                                \n",
       "3  5 ::: The Unrecovered (2007) ::: drama ::: The...                                                                                                                                                                                                                                                                                                                                                                                                                                                                                                                                                                \n",
       "4  6 ::: Quality Control (2011) ::: documentary :...                                                                                                                                                                                                                                                                                                                                                                                                                                                                                                                                                                "
      ]
     },
     "execution_count": 3,
     "metadata": {},
     "output_type": "execute_result"
    }
   ],
   "source": [
    "df.head()"
   ]
  },
  {
   "cell_type": "code",
   "execution_count": 4,
   "id": "7a7a31b4",
   "metadata": {
    "execution": {
     "iopub.execute_input": "2024-02-01T22:16:43.773682Z",
     "iopub.status.busy": "2024-02-01T22:16:43.772560Z",
     "iopub.status.idle": "2024-02-01T22:16:44.231489Z",
     "shell.execute_reply": "2024-02-01T22:16:44.230313Z"
    },
    "papermill": {
     "duration": 0.472557,
     "end_time": "2024-02-01T22:16:44.234038",
     "exception": false,
     "start_time": "2024-02-01T22:16:43.761481",
     "status": "completed"
    },
    "tags": []
   },
   "outputs": [],
   "source": [
    "train_data = pd.read_csv('/kaggle/input/genre-classification-dataset-imdb/Genre Classification Dataset/train_data.txt', sep=\":::\", names=[\"Title\", \"Genre\", \"Description\"], engine=\"python\")"
   ]
  },
  {
   "cell_type": "code",
   "execution_count": 5,
   "id": "8435c7ef",
   "metadata": {
    "execution": {
     "iopub.execute_input": "2024-02-01T22:16:44.253725Z",
     "iopub.status.busy": "2024-02-01T22:16:44.253310Z",
     "iopub.status.idle": "2024-02-01T22:16:44.264804Z",
     "shell.execute_reply": "2024-02-01T22:16:44.263478Z"
    },
    "papermill": {
     "duration": 0.023628,
     "end_time": "2024-02-01T22:16:44.266925",
     "exception": false,
     "start_time": "2024-02-01T22:16:44.243297",
     "status": "completed"
    },
    "tags": []
   },
   "outputs": [
    {
     "data": {
      "text/html": [
       "<div>\n",
       "<style scoped>\n",
       "    .dataframe tbody tr th:only-of-type {\n",
       "        vertical-align: middle;\n",
       "    }\n",
       "\n",
       "    .dataframe tbody tr th {\n",
       "        vertical-align: top;\n",
       "    }\n",
       "\n",
       "    .dataframe thead th {\n",
       "        text-align: right;\n",
       "    }\n",
       "</style>\n",
       "<table border=\"1\" class=\"dataframe\">\n",
       "  <thead>\n",
       "    <tr style=\"text-align: right;\">\n",
       "      <th></th>\n",
       "      <th>Title</th>\n",
       "      <th>Genre</th>\n",
       "      <th>Description</th>\n",
       "    </tr>\n",
       "  </thead>\n",
       "  <tbody>\n",
       "    <tr>\n",
       "      <th>1</th>\n",
       "      <td>Oscar et la dame rose (2009)</td>\n",
       "      <td>drama</td>\n",
       "      <td>Listening in to a conversation between his do...</td>\n",
       "    </tr>\n",
       "    <tr>\n",
       "      <th>2</th>\n",
       "      <td>Cupid (1997)</td>\n",
       "      <td>thriller</td>\n",
       "      <td>A brother and sister with a past incestuous r...</td>\n",
       "    </tr>\n",
       "    <tr>\n",
       "      <th>3</th>\n",
       "      <td>Young, Wild and Wonderful (1980)</td>\n",
       "      <td>adult</td>\n",
       "      <td>As the bus empties the students for their fie...</td>\n",
       "    </tr>\n",
       "    <tr>\n",
       "      <th>4</th>\n",
       "      <td>The Secret Sin (1915)</td>\n",
       "      <td>drama</td>\n",
       "      <td>To help their unemployed father make ends mee...</td>\n",
       "    </tr>\n",
       "    <tr>\n",
       "      <th>5</th>\n",
       "      <td>The Unrecovered (2007)</td>\n",
       "      <td>drama</td>\n",
       "      <td>The film's title refers not only to the un-re...</td>\n",
       "    </tr>\n",
       "  </tbody>\n",
       "</table>\n",
       "</div>"
      ],
      "text/plain": [
       "                                Title       Genre  \\\n",
       "1       Oscar et la dame rose (2009)       drama    \n",
       "2                       Cupid (1997)    thriller    \n",
       "3   Young, Wild and Wonderful (1980)       adult    \n",
       "4              The Secret Sin (1915)       drama    \n",
       "5             The Unrecovered (2007)       drama    \n",
       "\n",
       "                                         Description  \n",
       "1   Listening in to a conversation between his do...  \n",
       "2   A brother and sister with a past incestuous r...  \n",
       "3   As the bus empties the students for their fie...  \n",
       "4   To help their unemployed father make ends mee...  \n",
       "5   The film's title refers not only to the un-re...  "
      ]
     },
     "execution_count": 5,
     "metadata": {},
     "output_type": "execute_result"
    }
   ],
   "source": [
    "train_data.head()"
   ]
  },
  {
   "cell_type": "code",
   "execution_count": 6,
   "id": "dcf9fbea",
   "metadata": {
    "execution": {
     "iopub.execute_input": "2024-02-01T22:16:44.287255Z",
     "iopub.status.busy": "2024-02-01T22:16:44.286849Z",
     "iopub.status.idle": "2024-02-01T22:16:44.293389Z",
     "shell.execute_reply": "2024-02-01T22:16:44.292341Z"
    },
    "papermill": {
     "duration": 0.019423,
     "end_time": "2024-02-01T22:16:44.295581",
     "exception": false,
     "start_time": "2024-02-01T22:16:44.276158",
     "status": "completed"
    },
    "tags": []
   },
   "outputs": [
    {
     "data": {
      "text/plain": [
       "(54214, 3)"
      ]
     },
     "execution_count": 6,
     "metadata": {},
     "output_type": "execute_result"
    }
   ],
   "source": [
    "train_data.shape"
   ]
  },
  {
   "cell_type": "code",
   "execution_count": 7,
   "id": "fec92bb2",
   "metadata": {
    "execution": {
     "iopub.execute_input": "2024-02-01T22:16:44.316023Z",
     "iopub.status.busy": "2024-02-01T22:16:44.315596Z",
     "iopub.status.idle": "2024-02-01T22:16:44.353596Z",
     "shell.execute_reply": "2024-02-01T22:16:44.352492Z"
    },
    "papermill": {
     "duration": 0.050863,
     "end_time": "2024-02-01T22:16:44.355987",
     "exception": false,
     "start_time": "2024-02-01T22:16:44.305124",
     "status": "completed"
    },
    "tags": []
   },
   "outputs": [
    {
     "name": "stdout",
     "output_type": "stream",
     "text": [
      "<class 'pandas.core.frame.DataFrame'>\n",
      "Index: 54214 entries, 1 to 54214\n",
      "Data columns (total 3 columns):\n",
      " #   Column       Non-Null Count  Dtype \n",
      "---  ------       --------------  ----- \n",
      " 0   Title        54214 non-null  object\n",
      " 1   Genre        54214 non-null  object\n",
      " 2   Description  54214 non-null  object\n",
      "dtypes: object(3)\n",
      "memory usage: 1.7+ MB\n"
     ]
    }
   ],
   "source": [
    "train_data.info()"
   ]
  },
  {
   "cell_type": "code",
   "execution_count": 8,
   "id": "7dae3500",
   "metadata": {
    "execution": {
     "iopub.execute_input": "2024-02-01T22:16:44.375889Z",
     "iopub.status.busy": "2024-02-01T22:16:44.375482Z",
     "iopub.status.idle": "2024-02-01T22:16:44.484123Z",
     "shell.execute_reply": "2024-02-01T22:16:44.483007Z"
    },
    "papermill": {
     "duration": 0.121278,
     "end_time": "2024-02-01T22:16:44.486495",
     "exception": false,
     "start_time": "2024-02-01T22:16:44.365217",
     "status": "completed"
    },
    "tags": []
   },
   "outputs": [
    {
     "data": {
      "text/html": [
       "<div>\n",
       "<style scoped>\n",
       "    .dataframe tbody tr th:only-of-type {\n",
       "        vertical-align: middle;\n",
       "    }\n",
       "\n",
       "    .dataframe tbody tr th {\n",
       "        vertical-align: top;\n",
       "    }\n",
       "\n",
       "    .dataframe thead th {\n",
       "        text-align: right;\n",
       "    }\n",
       "</style>\n",
       "<table border=\"1\" class=\"dataframe\">\n",
       "  <thead>\n",
       "    <tr style=\"text-align: right;\">\n",
       "      <th></th>\n",
       "      <th>Title</th>\n",
       "      <th>Genre</th>\n",
       "      <th>Description</th>\n",
       "    </tr>\n",
       "  </thead>\n",
       "  <tbody>\n",
       "    <tr>\n",
       "      <th>count</th>\n",
       "      <td>54214</td>\n",
       "      <td>54214</td>\n",
       "      <td>54214</td>\n",
       "    </tr>\n",
       "    <tr>\n",
       "      <th>unique</th>\n",
       "      <td>54214</td>\n",
       "      <td>27</td>\n",
       "      <td>54086</td>\n",
       "    </tr>\n",
       "    <tr>\n",
       "      <th>top</th>\n",
       "      <td>Oscar et la dame rose (2009)</td>\n",
       "      <td>drama</td>\n",
       "      <td>Grammy - music award of the American academy ...</td>\n",
       "    </tr>\n",
       "    <tr>\n",
       "      <th>freq</th>\n",
       "      <td>1</td>\n",
       "      <td>13613</td>\n",
       "      <td>12</td>\n",
       "    </tr>\n",
       "  </tbody>\n",
       "</table>\n",
       "</div>"
      ],
      "text/plain": [
       "                                 Title    Genre  \\\n",
       "count                            54214    54214   \n",
       "unique                           54214       27   \n",
       "top      Oscar et la dame rose (2009)    drama    \n",
       "freq                                 1    13613   \n",
       "\n",
       "                                              Description  \n",
       "count                                               54214  \n",
       "unique                                              54086  \n",
       "top      Grammy - music award of the American academy ...  \n",
       "freq                                                   12  "
      ]
     },
     "execution_count": 8,
     "metadata": {},
     "output_type": "execute_result"
    }
   ],
   "source": [
    "train_data.describe()"
   ]
  },
  {
   "cell_type": "code",
   "execution_count": 9,
   "id": "154a61ce",
   "metadata": {
    "execution": {
     "iopub.execute_input": "2024-02-01T22:16:44.508460Z",
     "iopub.status.busy": "2024-02-01T22:16:44.507443Z",
     "iopub.status.idle": "2024-02-01T22:16:44.632162Z",
     "shell.execute_reply": "2024-02-01T22:16:44.631041Z"
    },
    "papermill": {
     "duration": 0.138281,
     "end_time": "2024-02-01T22:16:44.634629",
     "exception": false,
     "start_time": "2024-02-01T22:16:44.496348",
     "status": "completed"
    },
    "tags": []
   },
   "outputs": [
    {
     "data": {
      "text/plain": [
       "0"
      ]
     },
     "execution_count": 9,
     "metadata": {},
     "output_type": "execute_result"
    }
   ],
   "source": [
    "train_data.duplicated().sum()"
   ]
  },
  {
   "cell_type": "code",
   "execution_count": 10,
   "id": "302d1857",
   "metadata": {
    "execution": {
     "iopub.execute_input": "2024-02-01T22:16:44.655479Z",
     "iopub.status.busy": "2024-02-01T22:16:44.655085Z",
     "iopub.status.idle": "2024-02-01T22:16:44.676112Z",
     "shell.execute_reply": "2024-02-01T22:16:44.675029Z"
    },
    "papermill": {
     "duration": 0.034124,
     "end_time": "2024-02-01T22:16:44.678321",
     "exception": false,
     "start_time": "2024-02-01T22:16:44.644197",
     "status": "completed"
    },
    "tags": []
   },
   "outputs": [
    {
     "data": {
      "text/plain": [
       "Title          0\n",
       "Genre          0\n",
       "Description    0\n",
       "dtype: int64"
      ]
     },
     "execution_count": 10,
     "metadata": {},
     "output_type": "execute_result"
    }
   ],
   "source": [
    "train_data.isnull().sum()"
   ]
  },
  {
   "cell_type": "code",
   "execution_count": 11,
   "id": "59593210",
   "metadata": {
    "execution": {
     "iopub.execute_input": "2024-02-01T22:16:44.699637Z",
     "iopub.status.busy": "2024-02-01T22:16:44.698978Z",
     "iopub.status.idle": "2024-02-01T22:16:45.513399Z",
     "shell.execute_reply": "2024-02-01T22:16:45.512109Z"
    },
    "papermill": {
     "duration": 0.828105,
     "end_time": "2024-02-01T22:16:45.516219",
     "exception": false,
     "start_time": "2024-02-01T22:16:44.688114",
     "status": "completed"
    },
    "tags": []
   },
   "outputs": [],
   "source": [
    "test_data = pd.read_csv('/kaggle/input/genre-classification-dataset-imdb/Genre Classification Dataset/test_data.txt', sep=\":::\", names=[\"Id\" ,\"Title\", \"Description\"], engine=\"python\")"
   ]
  },
  {
   "cell_type": "code",
   "execution_count": 12,
   "id": "58b5e575",
   "metadata": {
    "execution": {
     "iopub.execute_input": "2024-02-01T22:16:45.537614Z",
     "iopub.status.busy": "2024-02-01T22:16:45.537019Z",
     "iopub.status.idle": "2024-02-01T22:16:45.547169Z",
     "shell.execute_reply": "2024-02-01T22:16:45.546053Z"
    },
    "papermill": {
     "duration": 0.023457,
     "end_time": "2024-02-01T22:16:45.549401",
     "exception": false,
     "start_time": "2024-02-01T22:16:45.525944",
     "status": "completed"
    },
    "tags": []
   },
   "outputs": [
    {
     "data": {
      "text/html": [
       "<div>\n",
       "<style scoped>\n",
       "    .dataframe tbody tr th:only-of-type {\n",
       "        vertical-align: middle;\n",
       "    }\n",
       "\n",
       "    .dataframe tbody tr th {\n",
       "        vertical-align: top;\n",
       "    }\n",
       "\n",
       "    .dataframe thead th {\n",
       "        text-align: right;\n",
       "    }\n",
       "</style>\n",
       "<table border=\"1\" class=\"dataframe\">\n",
       "  <thead>\n",
       "    <tr style=\"text-align: right;\">\n",
       "      <th></th>\n",
       "      <th>Id</th>\n",
       "      <th>Title</th>\n",
       "      <th>Description</th>\n",
       "    </tr>\n",
       "  </thead>\n",
       "  <tbody>\n",
       "    <tr>\n",
       "      <th>0</th>\n",
       "      <td>1</td>\n",
       "      <td>Edgar's Lunch (1998)</td>\n",
       "      <td>L.R. Brane loves his life - his car, his apar...</td>\n",
       "    </tr>\n",
       "    <tr>\n",
       "      <th>1</th>\n",
       "      <td>2</td>\n",
       "      <td>La guerra de papá (1977)</td>\n",
       "      <td>Spain, March 1964: Quico is a very naughty ch...</td>\n",
       "    </tr>\n",
       "    <tr>\n",
       "      <th>2</th>\n",
       "      <td>3</td>\n",
       "      <td>Off the Beaten Track (2010)</td>\n",
       "      <td>One year in the life of Albin and his family ...</td>\n",
       "    </tr>\n",
       "    <tr>\n",
       "      <th>3</th>\n",
       "      <td>4</td>\n",
       "      <td>Meu Amigo Hindu (2015)</td>\n",
       "      <td>His father has died, he hasn't spoken with hi...</td>\n",
       "    </tr>\n",
       "    <tr>\n",
       "      <th>4</th>\n",
       "      <td>5</td>\n",
       "      <td>Er nu zhai (1955)</td>\n",
       "      <td>Before he was known internationally as a mart...</td>\n",
       "    </tr>\n",
       "  </tbody>\n",
       "</table>\n",
       "</div>"
      ],
      "text/plain": [
       "   Id                          Title  \\\n",
       "0   1          Edgar's Lunch (1998)    \n",
       "1   2      La guerra de papá (1977)    \n",
       "2   3   Off the Beaten Track (2010)    \n",
       "3   4        Meu Amigo Hindu (2015)    \n",
       "4   5             Er nu zhai (1955)    \n",
       "\n",
       "                                         Description  \n",
       "0   L.R. Brane loves his life - his car, his apar...  \n",
       "1   Spain, March 1964: Quico is a very naughty ch...  \n",
       "2   One year in the life of Albin and his family ...  \n",
       "3   His father has died, he hasn't spoken with hi...  \n",
       "4   Before he was known internationally as a mart...  "
      ]
     },
     "execution_count": 12,
     "metadata": {},
     "output_type": "execute_result"
    }
   ],
   "source": [
    "test_data.head()"
   ]
  },
  {
   "cell_type": "code",
   "execution_count": 13,
   "id": "0a4c5c87",
   "metadata": {
    "execution": {
     "iopub.execute_input": "2024-02-01T22:16:45.571409Z",
     "iopub.status.busy": "2024-02-01T22:16:45.570369Z",
     "iopub.status.idle": "2024-02-01T22:16:45.576571Z",
     "shell.execute_reply": "2024-02-01T22:16:45.575828Z"
    },
    "papermill": {
     "duration": 0.01936,
     "end_time": "2024-02-01T22:16:45.578666",
     "exception": false,
     "start_time": "2024-02-01T22:16:45.559306",
     "status": "completed"
    },
    "tags": []
   },
   "outputs": [
    {
     "data": {
      "text/plain": [
       "(54200, 3)"
      ]
     },
     "execution_count": 13,
     "metadata": {},
     "output_type": "execute_result"
    }
   ],
   "source": [
    "test_data.shape"
   ]
  },
  {
   "cell_type": "code",
   "execution_count": 14,
   "id": "b1ce3ea1",
   "metadata": {
    "execution": {
     "iopub.execute_input": "2024-02-01T22:16:45.600340Z",
     "iopub.status.busy": "2024-02-01T22:16:45.599686Z",
     "iopub.status.idle": "2024-02-01T22:16:45.620402Z",
     "shell.execute_reply": "2024-02-01T22:16:45.619294Z"
    },
    "papermill": {
     "duration": 0.034367,
     "end_time": "2024-02-01T22:16:45.622971",
     "exception": false,
     "start_time": "2024-02-01T22:16:45.588604",
     "status": "completed"
    },
    "tags": []
   },
   "outputs": [
    {
     "name": "stdout",
     "output_type": "stream",
     "text": [
      "<class 'pandas.core.frame.DataFrame'>\n",
      "RangeIndex: 54200 entries, 0 to 54199\n",
      "Data columns (total 3 columns):\n",
      " #   Column       Non-Null Count  Dtype \n",
      "---  ------       --------------  ----- \n",
      " 0   Id           54200 non-null  int64 \n",
      " 1   Title        54200 non-null  object\n",
      " 2   Description  54200 non-null  object\n",
      "dtypes: int64(1), object(2)\n",
      "memory usage: 1.2+ MB\n"
     ]
    }
   ],
   "source": [
    "test_data.info()"
   ]
  },
  {
   "cell_type": "markdown",
   "id": "5b7ee747",
   "metadata": {
    "papermill": {
     "duration": 0.009664,
     "end_time": "2024-02-01T22:16:45.642891",
     "exception": false,
     "start_time": "2024-02-01T22:16:45.633227",
     "status": "completed"
    },
    "tags": []
   },
   "source": [
    "# Analysis"
   ]
  },
  {
   "cell_type": "code",
   "execution_count": 15,
   "id": "0c483417",
   "metadata": {
    "execution": {
     "iopub.execute_input": "2024-02-01T22:16:45.664290Z",
     "iopub.status.busy": "2024-02-01T22:16:45.663923Z",
     "iopub.status.idle": "2024-02-01T22:16:46.133634Z",
     "shell.execute_reply": "2024-02-01T22:16:46.132503Z"
    },
    "papermill": {
     "duration": 0.483128,
     "end_time": "2024-02-01T22:16:46.135964",
     "exception": false,
     "start_time": "2024-02-01T22:16:45.652836",
     "status": "completed"
    },
    "tags": []
   },
   "outputs": [
    {
     "data": {
      "image/png": "[encoded data removed]",
      "text/plain": [
       "<Figure size 1000x1500 with 1 Axes>"
      ]
     },
     "metadata": {},
     "output_type": "display_data"
    }
   ],
   "source": [
    "plt.figure(figsize=(10,15))\n",
    "sns.countplot(data=train_data, y=\"Genre\", order= train_data[\"Genre\"].value_counts().index)\n",
    "plt.show()"
   ]
  },
  {
   "cell_type": "code",
   "execution_count": 16,
   "id": "3abf678f",
   "metadata": {
    "execution": {
     "iopub.execute_input": "2024-02-01T22:16:46.159621Z",
     "iopub.status.busy": "2024-02-01T22:16:46.159227Z",
     "iopub.status.idle": "2024-02-01T22:16:46.165957Z",
     "shell.execute_reply": "2024-02-01T22:16:46.164976Z"
    },
    "papermill": {
     "duration": 0.021216,
     "end_time": "2024-02-01T22:16:46.168492",
     "exception": false,
     "start_time": "2024-02-01T22:16:46.147276",
     "status": "completed"
    },
    "tags": []
   },
   "outputs": [
    {
     "name": "stdout",
     "output_type": "stream",
     "text": [
      "Genre:  [0]\n",
      " Listening in to a conversation between his doctor and parents, 10-year-old Oscar learns what nobody has the courage to tell him. He only has a few weeks to live. Furious, he refuses to speak to anyone except straight-talking Rose, the lady in pink he meets on the hospital stairs. As Christmas approaches, Rose uses her fantastical experiences as a professional wrestler, her imagination, wit and charm to allow Oscar to live life and love to the full, in the company of his friends Pop Corn, Einstein, Bacon and childhood sweetheart Peggy Blue. \n",
      "\n",
      "Title:   Oscar et la dame rose (2009)  \n",
      "\n",
      "\n",
      "Genre:  [1]\n",
      " A brother and sister with a past incestuous relationship have a current murderous relationship. He murders the women who reject him and she murders the women who get too close to him. \n",
      "\n",
      "Title:   Cupid (1997)  \n",
      "\n",
      "\n",
      "Genre:  [2]\n",
      " As the bus empties the students for their field trip to the Museum of Natural History, little does the tour guide suspect that the students are there for more than just another tour. First, during the lecture films, the coeds drift into dreams of the most erotic fantasies one can imagine. After the films, they release the emotion of the fantasies in the most erotic and uncommon ways. One slips off to the curator's office for a little \"acquisition. \" Another finds the anthropologist to see what bones can be identified. Even the head teacher isn't immune. Soon the tour is over, but as the bus departs, everyone admits it was quite an education. \n",
      "\n",
      "Title:   Young, Wild and Wonderful (1980)  \n",
      "\n",
      "\n",
      "Genre:  [3]\n",
      " To help their unemployed father make ends meet, Edith and her twin sister Grace work as seamstresses . An invalid, Grace falls prey to the temptations of Chinatown opium and becomes an addict, a condition worsened by a misguided physician who prescribes morphine to ease her pain. When their father strikes oil, the family enjoys a new prosperity and the sisters meet the eligible Jack Herron, a fellow oil prospector. To Grace's shock, Jack falls in love with Edith and in her jealousy, Grace tells Jack that Edith, not she, has a drug problem. Hinting that her sister will soon need more morphine, Grace arranges for a dinner in Chinatown with the couple. While her sister and Jack dance, Grace slips away to an opium den. Edith follows her, but ends up in the wrong den and is arrested in an ensuing drug raid. After he bails her out of jail, Edith takes an angry Jack to search for Grace and stumbles across her half-conscious body lying in the street. The truth about the sisters is revealed, and after sending Grace to a sanitarium in the country, Jack and Edith are married. \n",
      "\n",
      "Title:   The Secret Sin (1915)  \n",
      "\n",
      "\n",
      "Genre:  [4]\n",
      " The film's title refers not only to the un-recovered bodies at ground zero, but also to the state of the nation at large. Set in the hallucinatory period of time between September 11 and Halloween of 2001, The Unrecovered examines the effect of terror on the average mind, the way a state of heightened anxiety and/or alertness can cause the average person to make the sort of imaginative connections that are normally made only by artists and conspiracy theorists-both of whom figure prominently in this film. The Unrecovered explores the way in which irony, empathy, and paranoia relate to one another in the wake of 9/11. \n",
      "\n",
      "Title:   The Unrecovered (2007)  \n",
      "\n",
      "\n"
     ]
    }
   ],
   "source": [
    "for i in range(5):\n",
    "    print(\"Genre: \", [i])\n",
    "    print(train_data['Description'].iloc[i], \"\\n\")\n",
    "    print(\"Title: \", train_data['Title'].iloc[i], \"\\n\\n\")"
   ]
  },
  {
   "cell_type": "code",
   "execution_count": 17,
   "id": "8e570acc",
   "metadata": {
    "execution": {
     "iopub.execute_input": "2024-02-01T22:16:46.192011Z",
     "iopub.status.busy": "2024-02-01T22:16:46.191621Z",
     "iopub.status.idle": "2024-02-01T22:16:46.200610Z",
     "shell.execute_reply": "2024-02-01T22:16:46.199492Z"
    },
    "papermill": {
     "duration": 0.023497,
     "end_time": "2024-02-01T22:16:46.202949",
     "exception": false,
     "start_time": "2024-02-01T22:16:46.179452",
     "status": "completed"
    },
    "tags": []
   },
   "outputs": [
    {
     "data": {
      "text/plain": [
       "1               drama \n",
       "2            thriller \n",
       "3               adult \n",
       "4               drama \n",
       "5               drama \n",
       "             ...      \n",
       "54210          comedy \n",
       "54211          horror \n",
       "54212     documentary \n",
       "54213          comedy \n",
       "54214         history \n",
       "Name: Genre, Length: 54214, dtype: object"
      ]
     },
     "execution_count": 17,
     "metadata": {},
     "output_type": "execute_result"
    }
   ],
   "source": [
    "train_data['Genre']"
   ]
  },
  {
   "cell_type": "code",
   "execution_count": 18,
   "id": "03a3df87",
   "metadata": {
    "execution": {
     "iopub.execute_input": "2024-02-01T22:16:46.227301Z",
     "iopub.status.busy": "2024-02-01T22:16:46.226368Z",
     "iopub.status.idle": "2024-02-01T22:16:46.851167Z",
     "shell.execute_reply": "2024-02-01T22:16:46.850302Z"
    },
    "papermill": {
     "duration": 0.639263,
     "end_time": "2024-02-01T22:16:46.853402",
     "exception": false,
     "start_time": "2024-02-01T22:16:46.214139",
     "status": "completed"
    },
    "tags": []
   },
   "outputs": [
    {
     "data": {
      "image/png": "[encoded data removed]",
      "text/plain": [
       "<Figure size 1200x800 with 1 Axes>"
      ]
     },
     "metadata": {},
     "output_type": "display_data"
    }
   ],
   "source": [
    "plt.figure(figsize=(12,8))\n",
    "counts = train_data.Genre.value_counts()\n",
    "sns.barplot(x=counts.index, y=counts, color='blue')\n",
    "plt.xlabel('Genre' ,fontsize=14, fontweight='bold')\n",
    "plt.ylabel('Count', fontsize=14, fontweight='bold')\n",
    "plt.title('Distribution of Genres', fontsize=16, fontweight='bold')\n",
    "plt.xticks(rotation=90, fontsize=14, fontweight='bold');"
   ]
  },
  {
   "cell_type": "code",
   "execution_count": 19,
   "id": "a6dd550f",
   "metadata": {
    "execution": {
     "iopub.execute_input": "2024-02-01T22:16:46.880252Z",
     "iopub.status.busy": "2024-02-01T22:16:46.879888Z",
     "iopub.status.idle": "2024-02-01T22:16:46.916161Z",
     "shell.execute_reply": "2024-02-01T22:16:46.914951Z"
    },
    "papermill": {
     "duration": 0.052468,
     "end_time": "2024-02-01T22:16:46.918677",
     "exception": false,
     "start_time": "2024-02-01T22:16:46.866209",
     "status": "completed"
    },
    "tags": []
   },
   "outputs": [
    {
     "data": {
      "text/html": [
       "<div>\n",
       "<style scoped>\n",
       "    .dataframe tbody tr th:only-of-type {\n",
       "        vertical-align: middle;\n",
       "    }\n",
       "\n",
       "    .dataframe tbody tr th {\n",
       "        vertical-align: top;\n",
       "    }\n",
       "\n",
       "    .dataframe thead th {\n",
       "        text-align: right;\n",
       "    }\n",
       "</style>\n",
       "<table border=\"1\" class=\"dataframe\">\n",
       "  <thead>\n",
       "    <tr style=\"text-align: right;\">\n",
       "      <th></th>\n",
       "      <th>Title</th>\n",
       "      <th>Genre</th>\n",
       "      <th>Description</th>\n",
       "      <th>length</th>\n",
       "    </tr>\n",
       "  </thead>\n",
       "  <tbody>\n",
       "    <tr>\n",
       "      <th>1</th>\n",
       "      <td>Oscar et la dame rose (2009)</td>\n",
       "      <td>drama</td>\n",
       "      <td>Listening in to a conversation between his do...</td>\n",
       "      <td>546</td>\n",
       "    </tr>\n",
       "    <tr>\n",
       "      <th>2</th>\n",
       "      <td>Cupid (1997)</td>\n",
       "      <td>thriller</td>\n",
       "      <td>A brother and sister with a past incestuous r...</td>\n",
       "      <td>184</td>\n",
       "    </tr>\n",
       "    <tr>\n",
       "      <th>3</th>\n",
       "      <td>Young, Wild and Wonderful (1980)</td>\n",
       "      <td>adult</td>\n",
       "      <td>As the bus empties the students for their fie...</td>\n",
       "      <td>650</td>\n",
       "    </tr>\n",
       "    <tr>\n",
       "      <th>4</th>\n",
       "      <td>The Secret Sin (1915)</td>\n",
       "      <td>drama</td>\n",
       "      <td>To help their unemployed father make ends mee...</td>\n",
       "      <td>1082</td>\n",
       "    </tr>\n",
       "    <tr>\n",
       "      <th>5</th>\n",
       "      <td>The Unrecovered (2007)</td>\n",
       "      <td>drama</td>\n",
       "      <td>The film's title refers not only to the un-re...</td>\n",
       "      <td>625</td>\n",
       "    </tr>\n",
       "  </tbody>\n",
       "</table>\n",
       "</div>"
      ],
      "text/plain": [
       "                                Title       Genre  \\\n",
       "1       Oscar et la dame rose (2009)       drama    \n",
       "2                       Cupid (1997)    thriller    \n",
       "3   Young, Wild and Wonderful (1980)       adult    \n",
       "4              The Secret Sin (1915)       drama    \n",
       "5             The Unrecovered (2007)       drama    \n",
       "\n",
       "                                         Description  length  \n",
       "1   Listening in to a conversation between his do...     546  \n",
       "2   A brother and sister with a past incestuous r...     184  \n",
       "3   As the bus empties the students for their fie...     650  \n",
       "4   To help their unemployed father make ends mee...    1082  \n",
       "5   The film's title refers not only to the un-re...     625  "
      ]
     },
     "execution_count": 19,
     "metadata": {},
     "output_type": "execute_result"
    }
   ],
   "source": [
    "train_data['length']=train_data['Description'].apply(len)\n",
    "train_data.head()"
   ]
  },
  {
   "cell_type": "code",
   "execution_count": 20,
   "id": "d608265d",
   "metadata": {
    "execution": {
     "iopub.execute_input": "2024-02-01T22:16:46.945678Z",
     "iopub.status.busy": "2024-02-01T22:16:46.945300Z",
     "iopub.status.idle": "2024-02-01T22:16:47.500715Z",
     "shell.execute_reply": "2024-02-01T22:16:47.499550Z"
    },
    "papermill": {
     "duration": 0.571769,
     "end_time": "2024-02-01T22:16:47.503197",
     "exception": false,
     "start_time": "2024-02-01T22:16:46.931428",
     "status": "completed"
    },
    "tags": []
   },
   "outputs": [
    {
     "data": {
      "image/png": "[encoded data removed]",
      "text/plain": [
       "<Figure size 800x700 with 1 Axes>"
      ]
     },
     "metadata": {},
     "output_type": "display_data"
    }
   ],
   "source": [
    "plt.figure(figsize=(8, 7))\n",
    "\n",
    "sns.histplot(data=train_data, x='length', bins=20, kde=True, color='blue')\n",
    "\n",
    "plt.xlabel('Length', fontsize=14, fontweight='bold')\n",
    "plt.ylabel('Frequency', fontsize=14, fontweight='bold')\n",
    "plt.title('Distribution of Lengths', fontsize=16, fontweight='bold')\n",
    "\n",
    "plt.show()"
   ]
  },
  {
   "cell_type": "markdown",
   "id": "13f09d13",
   "metadata": {
    "papermill": {
     "duration": 0.012527,
     "end_time": "2024-02-01T22:16:47.528632",
     "exception": false,
     "start_time": "2024-02-01T22:16:47.516105",
     "status": "completed"
    },
    "tags": []
   },
   "source": [
    "# Data Preprocessing"
   ]
  },
  {
   "cell_type": "code",
   "execution_count": 21,
   "id": "5562f1e0",
   "metadata": {
    "execution": {
     "iopub.execute_input": "2024-02-01T22:16:47.556483Z",
     "iopub.status.busy": "2024-02-01T22:16:47.555686Z",
     "iopub.status.idle": "2024-02-01T22:17:56.558564Z",
     "shell.execute_reply": "2024-02-01T22:17:56.557251Z"
    },
    "papermill": {
     "duration": 69.019996,
     "end_time": "2024-02-01T22:17:56.561529",
     "exception": false,
     "start_time": "2024-02-01T22:16:47.541533",
     "status": "completed"
    },
    "tags": []
   },
   "outputs": [],
   "source": [
    "def data_processing(text):\n",
    "    text = text.lower()\n",
    "    text = re.sub(r'@\\S+', '', text)\n",
    "    text = re.sub(r'http\\S+', '', text)\n",
    "    text = re.sub(r'.pic\\S+', '', text)\n",
    "    text = re.sub(r'[^a-zA-Z+]', ' ', text)  # Change to replace non-characters with a space\n",
    "    text = \"\".join([i for i in text if i not in string.punctuation])\n",
    "    words = nltk.word_tokenize(text)\n",
    "    # Use the predefined stop_words variable instead of redefining it inside the function\n",
    "    text = \" \".join([i for i in words if i not in stop_words and len(i) > 2])\n",
    "    text = re.sub(r\"\\s+\", \" \", text).strip()  # Replace multiple spaces with a single space\n",
    "    return text\n",
    "\n",
    "train_data[\"TextCleaning\"] = train_data[\"Description\"].apply(data_processing)\n",
    "test_data[\"TextCleaning\"] = test_data[\"Description\"].apply(data_processing)"
   ]
  },
  {
   "cell_type": "code",
   "execution_count": 22,
   "id": "702b2e0c",
   "metadata": {
    "execution": {
     "iopub.execute_input": "2024-02-01T22:17:56.589905Z",
     "iopub.status.busy": "2024-02-01T22:17:56.589500Z",
     "iopub.status.idle": "2024-02-01T22:17:56.604902Z",
     "shell.execute_reply": "2024-02-01T22:17:56.603831Z"
    },
    "papermill": {
     "duration": 0.032047,
     "end_time": "2024-02-01T22:17:56.607145",
     "exception": false,
     "start_time": "2024-02-01T22:17:56.575098",
     "status": "completed"
    },
    "tags": []
   },
   "outputs": [
    {
     "data": {
      "text/html": [
       "<div>\n",
       "<style scoped>\n",
       "    .dataframe tbody tr th:only-of-type {\n",
       "        vertical-align: middle;\n",
       "    }\n",
       "\n",
       "    .dataframe tbody tr th {\n",
       "        vertical-align: top;\n",
       "    }\n",
       "\n",
       "    .dataframe thead th {\n",
       "        text-align: right;\n",
       "    }\n",
       "</style>\n",
       "<table border=\"1\" class=\"dataframe\">\n",
       "  <thead>\n",
       "    <tr style=\"text-align: right;\">\n",
       "      <th></th>\n",
       "      <th>Title</th>\n",
       "      <th>Genre</th>\n",
       "      <th>Description</th>\n",
       "      <th>length</th>\n",
       "      <th>TextCleaning</th>\n",
       "    </tr>\n",
       "  </thead>\n",
       "  <tbody>\n",
       "    <tr>\n",
       "      <th>1</th>\n",
       "      <td>Oscar et la dame rose (2009)</td>\n",
       "      <td>drama</td>\n",
       "      <td>Listening in to a conversation between his do...</td>\n",
       "      <td>546</td>\n",
       "      <td>listening conversation doctor parents year old...</td>\n",
       "    </tr>\n",
       "    <tr>\n",
       "      <th>2</th>\n",
       "      <td>Cupid (1997)</td>\n",
       "      <td>thriller</td>\n",
       "      <td>A brother and sister with a past incestuous r...</td>\n",
       "      <td>184</td>\n",
       "      <td>brother sister past incestuous relationship cu...</td>\n",
       "    </tr>\n",
       "    <tr>\n",
       "      <th>3</th>\n",
       "      <td>Young, Wild and Wonderful (1980)</td>\n",
       "      <td>adult</td>\n",
       "      <td>As the bus empties the students for their fie...</td>\n",
       "      <td>650</td>\n",
       "      <td>bus empties students field trip museum natural...</td>\n",
       "    </tr>\n",
       "    <tr>\n",
       "      <th>4</th>\n",
       "      <td>The Secret Sin (1915)</td>\n",
       "      <td>drama</td>\n",
       "      <td>To help their unemployed father make ends mee...</td>\n",
       "      <td>1082</td>\n",
       "      <td>help unemployed father make ends meet edith tw...</td>\n",
       "    </tr>\n",
       "    <tr>\n",
       "      <th>5</th>\n",
       "      <td>The Unrecovered (2007)</td>\n",
       "      <td>drama</td>\n",
       "      <td>The film's title refers not only to the un-re...</td>\n",
       "      <td>625</td>\n",
       "      <td>film title refers recovered bodies ground zero...</td>\n",
       "    </tr>\n",
       "    <tr>\n",
       "      <th>...</th>\n",
       "      <td>...</td>\n",
       "      <td>...</td>\n",
       "      <td>...</td>\n",
       "      <td>...</td>\n",
       "      <td>...</td>\n",
       "    </tr>\n",
       "    <tr>\n",
       "      <th>54210</th>\n",
       "      <td>\"Bonino\" (1953)</td>\n",
       "      <td>comedy</td>\n",
       "      <td>This short-lived NBC live sitcom centered on ...</td>\n",
       "      <td>507</td>\n",
       "      <td>short lived nbc live sitcom centered bonino wo...</td>\n",
       "    </tr>\n",
       "    <tr>\n",
       "      <th>54211</th>\n",
       "      <td>Dead Girls Don't Cry (????)</td>\n",
       "      <td>horror</td>\n",
       "      <td>The NEXT Generation of EXPLOITATION. The sist...</td>\n",
       "      <td>781</td>\n",
       "      <td>next generation exploitation sisters kapa bay ...</td>\n",
       "    </tr>\n",
       "    <tr>\n",
       "      <th>54212</th>\n",
       "      <td>Ronald Goedemondt: Ze bestaan echt (2008)</td>\n",
       "      <td>documentary</td>\n",
       "      <td>Ze bestaan echt, is a stand-up comedy about g...</td>\n",
       "      <td>255</td>\n",
       "      <td>bestaan echt stand comedy growing facing fears...</td>\n",
       "    </tr>\n",
       "    <tr>\n",
       "      <th>54213</th>\n",
       "      <td>Make Your Own Bed (1944)</td>\n",
       "      <td>comedy</td>\n",
       "      <td>Walter and Vivian live in the country and hav...</td>\n",
       "      <td>642</td>\n",
       "      <td>walter vivian live country difficult time keep...</td>\n",
       "    </tr>\n",
       "    <tr>\n",
       "      <th>54214</th>\n",
       "      <td>Nature's Fury: Storm of the Century (2006)</td>\n",
       "      <td>history</td>\n",
       "      <td>On Labor Day Weekend, 1935, the most intense ...</td>\n",
       "      <td>311</td>\n",
       "      <td>labor day weekend intense hurricane ever make ...</td>\n",
       "    </tr>\n",
       "  </tbody>\n",
       "</table>\n",
       "<p>54214 rows × 5 columns</p>\n",
       "</div>"
      ],
      "text/plain": [
       "                                              Title          Genre  \\\n",
       "1                     Oscar et la dame rose (2009)          drama    \n",
       "2                                     Cupid (1997)       thriller    \n",
       "3                 Young, Wild and Wonderful (1980)          adult    \n",
       "4                            The Secret Sin (1915)          drama    \n",
       "5                           The Unrecovered (2007)          drama    \n",
       "...                                             ...            ...   \n",
       "54210                              \"Bonino\" (1953)         comedy    \n",
       "54211                  Dead Girls Don't Cry (????)         horror    \n",
       "54212    Ronald Goedemondt: Ze bestaan echt (2008)    documentary    \n",
       "54213                     Make Your Own Bed (1944)         comedy    \n",
       "54214   Nature's Fury: Storm of the Century (2006)        history    \n",
       "\n",
       "                                             Description  length  \\\n",
       "1       Listening in to a conversation between his do...     546   \n",
       "2       A brother and sister with a past incestuous r...     184   \n",
       "3       As the bus empties the students for their fie...     650   \n",
       "4       To help their unemployed father make ends mee...    1082   \n",
       "5       The film's title refers not only to the un-re...     625   \n",
       "...                                                  ...     ...   \n",
       "54210   This short-lived NBC live sitcom centered on ...     507   \n",
       "54211   The NEXT Generation of EXPLOITATION. The sist...     781   \n",
       "54212   Ze bestaan echt, is a stand-up comedy about g...     255   \n",
       "54213   Walter and Vivian live in the country and hav...     642   \n",
       "54214   On Labor Day Weekend, 1935, the most intense ...     311   \n",
       "\n",
       "                                            TextCleaning  \n",
       "1      listening conversation doctor parents year old...  \n",
       "2      brother sister past incestuous relationship cu...  \n",
       "3      bus empties students field trip museum natural...  \n",
       "4      help unemployed father make ends meet edith tw...  \n",
       "5      film title refers recovered bodies ground zero...  \n",
       "...                                                  ...  \n",
       "54210  short lived nbc live sitcom centered bonino wo...  \n",
       "54211  next generation exploitation sisters kapa bay ...  \n",
       "54212  bestaan echt stand comedy growing facing fears...  \n",
       "54213  walter vivian live country difficult time keep...  \n",
       "54214  labor day weekend intense hurricane ever make ...  \n",
       "\n",
       "[54214 rows x 5 columns]"
      ]
     },
     "execution_count": 22,
     "metadata": {},
     "output_type": "execute_result"
    }
   ],
   "source": [
    "train_data"
   ]
  },
  {
   "cell_type": "markdown",
   "id": "49b2cbba",
   "metadata": {
    "papermill": {
     "duration": 0.012994,
     "end_time": "2024-02-01T22:17:56.633413",
     "exception": false,
     "start_time": "2024-02-01T22:17:56.620419",
     "status": "completed"
    },
    "tags": []
   },
   "source": [
    "# Using TF-IDF to vectorize the data"
   ]
  },
  {
   "cell_type": "code",
   "execution_count": 23,
   "id": "f4ab752f",
   "metadata": {
    "execution": {
     "iopub.execute_input": "2024-02-01T22:17:56.661753Z",
     "iopub.status.busy": "2024-02-01T22:17:56.661348Z",
     "iopub.status.idle": "2024-02-01T22:18:03.236830Z",
     "shell.execute_reply": "2024-02-01T22:18:03.235354Z"
    },
    "papermill": {
     "duration": 6.592529,
     "end_time": "2024-02-01T22:18:03.239209",
     "exception": false,
     "start_time": "2024-02-01T22:17:56.646680",
     "status": "completed"
    },
    "tags": []
   },
   "outputs": [],
   "source": [
    "vector = TfidfVectorizer()\n",
    "\n",
    "x_train = vector.fit_transform(train_data[\"TextCleaning\"])\n",
    "x_test = vector.transform(test_data[\"TextCleaning\"])"
   ]
  },
  {
   "cell_type": "markdown",
   "id": "7bc9d2ee",
   "metadata": {
    "papermill": {
     "duration": 0.013075,
     "end_time": "2024-02-01T22:18:03.265945",
     "exception": false,
     "start_time": "2024-02-01T22:18:03.252870",
     "status": "completed"
    },
    "tags": []
   },
   "source": [
    "# Split the data into train data and test data"
   ]
  },
  {
   "cell_type": "code",
   "execution_count": 24,
   "id": "00b4af9b",
   "metadata": {
    "execution": {
     "iopub.execute_input": "2024-02-01T22:18:03.294558Z",
     "iopub.status.busy": "2024-02-01T22:18:03.293876Z",
     "iopub.status.idle": "2024-02-01T22:18:03.316401Z",
     "shell.execute_reply": "2024-02-01T22:18:03.315237Z"
    },
    "papermill": {
     "duration": 0.039776,
     "end_time": "2024-02-01T22:18:03.319101",
     "exception": false,
     "start_time": "2024-02-01T22:18:03.279325",
     "status": "completed"
    },
    "tags": []
   },
   "outputs": [],
   "source": [
    "x = x_train\n",
    "y = train_data[\"Genre\"]\n",
    "\n",
    "x_train, x_test, y_train, y_test = train_test_split(x, y, test_size= 0.2, random_state=42)"
   ]
  },
  {
   "cell_type": "code",
   "execution_count": 25,
   "id": "e0e0534c",
   "metadata": {
    "execution": {
     "iopub.execute_input": "2024-02-01T22:18:03.347674Z",
     "iopub.status.busy": "2024-02-01T22:18:03.347279Z",
     "iopub.status.idle": "2024-02-01T22:18:03.353236Z",
     "shell.execute_reply": "2024-02-01T22:18:03.352235Z"
    },
    "papermill": {
     "duration": 0.023093,
     "end_time": "2024-02-01T22:18:03.355651",
     "exception": false,
     "start_time": "2024-02-01T22:18:03.332558",
     "status": "completed"
    },
    "tags": []
   },
   "outputs": [
    {
     "name": "stdout",
     "output_type": "stream",
     "text": [
      "Size of x_train:  (43371, 116601)\n",
      "Size of y_train:  (43371,)\n",
      "Size of x_test:  (10843, 116601)\n",
      "Size of y_test:  (10843,)\n"
     ]
    }
   ],
   "source": [
    "print(\"Size of x_train: \", (x_train.shape))\n",
    "print(\"Size of y_train: \", (y_train.shape))\n",
    "print(\"Size of x_test: \", (x_test.shape))\n",
    "print(\"Size of y_test: \", (y_test.shape))"
   ]
  },
  {
   "cell_type": "markdown",
   "id": "fa8a4cdc",
   "metadata": {
    "papermill": {
     "duration": 0.013179,
     "end_time": "2024-02-01T22:18:03.382320",
     "exception": false,
     "start_time": "2024-02-01T22:18:03.369141",
     "status": "completed"
    },
    "tags": []
   },
   "source": [
    "# Train the model"
   ]
  },
  {
   "cell_type": "code",
   "execution_count": 26,
   "id": "4ed35cf5",
   "metadata": {
    "execution": {
     "iopub.execute_input": "2024-02-01T22:18:03.475009Z",
     "iopub.status.busy": "2024-02-01T22:18:03.474217Z",
     "iopub.status.idle": "2024-02-01T22:18:03.479379Z",
     "shell.execute_reply": "2024-02-01T22:18:03.478522Z"
    },
    "papermill": {
     "duration": 0.022278,
     "end_time": "2024-02-01T22:18:03.481550",
     "exception": false,
     "start_time": "2024-02-01T22:18:03.459272",
     "status": "completed"
    },
    "tags": []
   },
   "outputs": [],
   "source": [
    "model1 = LogisticRegression()\n",
    "model2 = SVC()\n",
    "model3 = MultinomialNB()"
   ]
  },
  {
   "cell_type": "code",
   "execution_count": 27,
   "id": "05dfda64",
   "metadata": {
    "execution": {
     "iopub.execute_input": "2024-02-01T22:18:03.511284Z",
     "iopub.status.busy": "2024-02-01T22:18:03.510485Z",
     "iopub.status.idle": "2024-02-01T22:18:03.515403Z",
     "shell.execute_reply": "2024-02-01T22:18:03.514586Z"
    },
    "papermill": {
     "duration": 0.022173,
     "end_time": "2024-02-01T22:18:03.517515",
     "exception": false,
     "start_time": "2024-02-01T22:18:03.495342",
     "status": "completed"
    },
    "tags": []
   },
   "outputs": [],
   "source": [
    "columns=['LogisticRegression','SVC','MultinomialNB']\n",
    "result=[]"
   ]
  },
  {
   "cell_type": "code",
   "execution_count": 28,
   "id": "597eb009",
   "metadata": {
    "execution": {
     "iopub.execute_input": "2024-02-01T22:18:03.546959Z",
     "iopub.status.busy": "2024-02-01T22:18:03.546179Z",
     "iopub.status.idle": "2024-02-01T22:18:03.552015Z",
     "shell.execute_reply": "2024-02-01T22:18:03.551113Z"
    },
    "papermill": {
     "duration": 0.023045,
     "end_time": "2024-02-01T22:18:03.554214",
     "exception": false,
     "start_time": "2024-02-01T22:18:03.531169",
     "status": "completed"
    },
    "tags": []
   },
   "outputs": [],
   "source": [
    "def cal(model):\n",
    "    model.fit(x_train, y_train)\n",
    "    y_pred = model.predict(x_test)\n",
    "    accuracy = accuracy_score(y_pred,y_test)\n",
    "    result.append(accuracy)\n",
    "    \n",
    "    print(\"-----Model Evaluation on Test Data-----\")\n",
    "    print(model)\n",
    "    print(accuracy)"
   ]
  },
  {
   "cell_type": "code",
   "execution_count": 29,
   "id": "1e51dcf2",
   "metadata": {
    "execution": {
     "iopub.execute_input": "2024-02-01T22:18:03.583430Z",
     "iopub.status.busy": "2024-02-01T22:18:03.582662Z",
     "iopub.status.idle": "2024-02-01T22:19:31.082350Z",
     "shell.execute_reply": "2024-02-01T22:19:31.081493Z"
    },
    "papermill": {
     "duration": 87.530315,
     "end_time": "2024-02-01T22:19:31.098006",
     "exception": false,
     "start_time": "2024-02-01T22:18:03.567691",
     "status": "completed"
    },
    "tags": []
   },
   "outputs": [
    {
     "name": "stdout",
     "output_type": "stream",
     "text": [
      "-----Model Evaluation on Test Data-----\n",
      "LogisticRegression()\n",
      "0.5774232223554366\n"
     ]
    }
   ],
   "source": [
    "cal(model1)"
   ]
  },
  {
   "cell_type": "code",
   "execution_count": 30,
   "id": "e4f2d0f3",
   "metadata": {
    "execution": {
     "iopub.execute_input": "2024-02-01T22:19:31.127440Z",
     "iopub.status.busy": "2024-02-01T22:19:31.126764Z",
     "iopub.status.idle": "2024-02-01T23:39:55.215944Z",
     "shell.execute_reply": "2024-02-01T23:39:55.214215Z"
    },
    "papermill": {
     "duration": 4824.121917,
     "end_time": "2024-02-01T23:39:55.233650",
     "exception": false,
     "start_time": "2024-02-01T22:19:31.111733",
     "status": "completed"
    },
    "tags": []
   },
   "outputs": [
    {
     "name": "stdout",
     "output_type": "stream",
     "text": [
      "-----Model Evaluation on Test Data-----\n",
      "SVC()\n",
      "0.5674628792769528\n"
     ]
    }
   ],
   "source": [
    "cal(model2)"
   ]
  },
  {
   "cell_type": "code",
   "execution_count": 31,
   "id": "b13781ae",
   "metadata": {
    "execution": {
     "iopub.execute_input": "2024-02-01T23:39:55.267173Z",
     "iopub.status.busy": "2024-02-01T23:39:55.266525Z",
     "iopub.status.idle": "2024-02-01T23:39:55.715496Z",
     "shell.execute_reply": "2024-02-01T23:39:55.712447Z"
    },
    "papermill": {
     "duration": 0.468835,
     "end_time": "2024-02-01T23:39:55.718190",
     "exception": false,
     "start_time": "2024-02-01T23:39:55.249355",
     "status": "completed"
    },
    "tags": []
   },
   "outputs": [
    {
     "name": "stdout",
     "output_type": "stream",
     "text": [
      "-----Model Evaluation on Test Data-----\n",
      "MultinomialNB()\n",
      "0.4460942543576501\n"
     ]
    }
   ],
   "source": [
    "cal(model3)"
   ]
  },
  {
   "cell_type": "code",
   "execution_count": 32,
   "id": "c4f55aa3",
   "metadata": {
    "execution": {
     "iopub.execute_input": "2024-02-01T23:39:55.749789Z",
     "iopub.status.busy": "2024-02-01T23:39:55.749314Z",
     "iopub.status.idle": "2024-02-01T23:39:55.756307Z",
     "shell.execute_reply": "2024-02-01T23:39:55.754843Z"
    },
    "papermill": {
     "duration": 0.026054,
     "end_time": "2024-02-01T23:39:55.758652",
     "exception": false,
     "start_time": "2024-02-01T23:39:55.732598",
     "status": "completed"
    },
    "tags": []
   },
   "outputs": [],
   "source": [
    "FinalResult=pd.DataFrame({'Algorithm':columns, 'Accuracy':result})"
   ]
  },
  {
   "cell_type": "code",
   "execution_count": 33,
   "id": "886fe728",
   "metadata": {
    "execution": {
     "iopub.execute_input": "2024-02-01T23:39:55.789823Z",
     "iopub.status.busy": "2024-02-01T23:39:55.789359Z",
     "iopub.status.idle": "2024-02-01T23:39:55.803203Z",
     "shell.execute_reply": "2024-02-01T23:39:55.801725Z"
    },
    "papermill": {
     "duration": 0.032598,
     "end_time": "2024-02-01T23:39:55.805888",
     "exception": false,
     "start_time": "2024-02-01T23:39:55.773290",
     "status": "completed"
    },
    "tags": []
   },
   "outputs": [
    {
     "data": {
      "text/html": [
       "<div>\n",
       "<style scoped>\n",
       "    .dataframe tbody tr th:only-of-type {\n",
       "        vertical-align: middle;\n",
       "    }\n",
       "\n",
       "    .dataframe tbody tr th {\n",
       "        vertical-align: top;\n",
       "    }\n",
       "\n",
       "    .dataframe thead th {\n",
       "        text-align: right;\n",
       "    }\n",
       "</style>\n",
       "<table border=\"1\" class=\"dataframe\">\n",
       "  <thead>\n",
       "    <tr style=\"text-align: right;\">\n",
       "      <th></th>\n",
       "      <th>Algorithm</th>\n",
       "      <th>Accuracy</th>\n",
       "    </tr>\n",
       "  </thead>\n",
       "  <tbody>\n",
       "    <tr>\n",
       "      <th>0</th>\n",
       "      <td>LogisticRegression</td>\n",
       "      <td>0.577423</td>\n",
       "    </tr>\n",
       "    <tr>\n",
       "      <th>1</th>\n",
       "      <td>SVC</td>\n",
       "      <td>0.567463</td>\n",
       "    </tr>\n",
       "    <tr>\n",
       "      <th>2</th>\n",
       "      <td>MultinomialNB</td>\n",
       "      <td>0.446094</td>\n",
       "    </tr>\n",
       "  </tbody>\n",
       "</table>\n",
       "</div>"
      ],
      "text/plain": [
       "            Algorithm  Accuracy\n",
       "0  LogisticRegression  0.577423\n",
       "1                 SVC  0.567463\n",
       "2       MultinomialNB  0.446094"
      ]
     },
     "execution_count": 33,
     "metadata": {},
     "output_type": "execute_result"
    }
   ],
   "source": [
    "FinalResult"
   ]
  },
  {
   "cell_type": "code",
   "execution_count": 34,
   "id": "b9182e0a",
   "metadata": {
    "execution": {
     "iopub.execute_input": "2024-02-01T23:39:55.838555Z",
     "iopub.status.busy": "2024-02-01T23:39:55.838051Z",
     "iopub.status.idle": "2024-02-01T23:39:56.065080Z",
     "shell.execute_reply": "2024-02-01T23:39:56.063589Z"
    },
    "papermill": {
     "duration": 0.247244,
     "end_time": "2024-02-01T23:39:56.068079",
     "exception": false,
     "start_time": "2024-02-01T23:39:55.820835",
     "status": "completed"
    },
    "tags": []
   },
   "outputs": [
    {
     "data": {
      "image/png": "[encoded data removed]",
      "text/plain": [
       "<Figure size 2000x500 with 1 Axes>"
      ]
     },
     "metadata": {},
     "output_type": "display_data"
    }
   ],
   "source": [
    "fig,ax=plt.subplots(figsize=(20,5))\n",
    "plt.plot(FinalResult.Algorithm,result,label=\"Accuracy\")\n",
    "plt.legend()\n",
    "plt.show()"
   ]
  }
 ],
 "metadata": {
  "kaggle": {
   "accelerator": "none",
   "dataSources": [
    {
     "datasetId": 1417162,
     "sourceId": 2347441,
     "sourceType": "datasetVersion"
    }
   ],
   "dockerImageVersionId": 30646,
   "isGpuEnabled": false,
   "isInternetEnabled": true,
   "language": "python",
   "sourceType": "notebook"
  },
  "kernelspec": {
   "display_name": "Python 3",
   "language": "python",
   "name": "python3"
  },
  "language_info": {
   "codemirror_mode": {
    "name": "ipython",
    "version": 3
   },
   "file_extension": ".py",
   "mimetype": "text/x-python",
   "name": "python",
   "nbconvert_exporter": "python",
   "pygments_lexer": "ipython3",
   "version": "3.10.13"
  },
  "papermill": {
   "default_parameters": {},
   "duration": 5000.340832,
   "end_time": "2024-02-01T23:39:56.818899",
   "environment_variables": {},
   "exception": null,
   "input_path": "__notebook__.ipynb",
   "output_path": "__notebook__.ipynb",
   "parameters": {},
   "start_time": "2024-02-01T22:16:36.478067",
   "version": "2.5.0"
  }
 },
 "nbformat": 4,
 "nbformat_minor": 5
}
